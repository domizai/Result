{
 "cells": [
  {
   "cell_type": "markdown",
   "metadata": {},
   "source": [
    "# Generate Javadoc\n",
    "\n",
    "```bash\n",
    "# javadoc -d <out> [-sourcepath <sourcepath>] <package>\n",
    "javadoc -d doc -sourcepath ./src/main/java result\n",
    "```"
   ]
  },
  {
   "cell_type": "markdown",
   "metadata": {},
   "source": [
    "# Result \n",
    "\n",
    "## Motivation\n",
    "The use of unchecked exceptions harbours the risk of errors remaining unhandled and, in the worst case, leading to a program crash, as try-catch clauses are optional and can easily be ignored or forgotten.\n",
    "The Result type, which is returned instead of thrown exceptions, offers an alternative solution. This can either be of the concrete type Ok or Err. Ok contains the successful return value and Err contains the error message if the method call has failed. In comparison to the Optional type, which may or may not contain a value, Result contains a value or an exception.\n",
    "The Result type offers a range of methods that simplify the further processing of return values and make the control flow more dynamic. This creates a decoupled and logical chain of data processing that is not dependent on try-catch and if-else clauses, which enables a clearer structure of the code.\n",
    "\n",
    "## Examples\n",
    "```java\n",
    "import static result.Result.Ok;\n",
    "import static result.Result.Err;\n",
    "\n",
    "Result<Double> divide(double a, double b) {\n",
    "    if (b == 0) {\n",
    "        return Err(new IllegalArgumentException(\"Cannot divide by zero\"));\n",
    "    }\n",
    "    return Ok(a / b);\n",
    "}\n",
    "```\n",
    "\n",
    "### Result with no value\n",
    "\n",
    "```java\n",
    "import result.Result.Void;\n",
    "\n",
    "Result<Void> funct() {\n",
    "    return Ok();\n",
    "}\n",
    "```\n",
    "\n",
    "## Contribute\n",
    "We welcome feedback from the community. If you have suggestions for improvement or discover problems, you are welcome to make a contribution."
   ]
  }
 ],
 "metadata": {
  "language_info": {
   "name": "python"
  }
 },
 "nbformat": 4,
 "nbformat_minor": 2
}
